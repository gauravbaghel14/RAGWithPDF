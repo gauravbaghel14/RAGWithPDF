{
 "cells": [
  {
   "cell_type": "markdown",
   "metadata": {},
   "source": [
    "# Loading pdf document"
   ]
  },
  {
   "cell_type": "code",
   "execution_count": 2,
   "metadata": {},
   "outputs": [],
   "source": [
    "from langchain_community.document_loaders import PyPDFLoader"
   ]
  },
  {
   "cell_type": "code",
   "execution_count": 10,
   "metadata": {},
   "outputs": [
    {
     "data": {
      "text/plain": [
       "\" \\nMAHABHARATA retold by C. Rajagopalachari \\n(Edited by Jay Mazo, International Gita Society) \\n \\nContents \\n \\n \\n1. Ganapati, the Scribe \\n2. Devavrata \\n3. Bhishma's Vow \\n4. Amba And Bhishma \\n5. Devayani And Kacha \\n6. The Marriage Of Devayani \\n7. Yayati \\n8. Vidura \\n9. Kunti Devi \\n10. Death Of Pandu \\n11. Bhima \\n12. Karna \\n13. Drona \\n14. The Wax Palace \\n15. The Escape Of The Pandavas \\n16. The Slaying Of Bakasura \\n17. Draupadi's Swayamvaram \\n18. Indraprastha \\n19. The Saranga Birds \\n20. Jarasandha \\n21. The Slaying Of Jarasandha \\n22. The First Honor \\n23. Sakuni Comes In \\n24. The Invitation \\n25. The Wager \\n26. Draupadi's Grief \\n27. Dhritarashtra's Anxiety \\n28. Krishna's Vow \\n29. Pasupata \\n30. Affliction Is Nothing New \\n31. Agastya \\n32. Rishyasringa \\n33. Fruitless Penance \\n34. Yavakrida's End \\n35. Mere Learning Is Not Enough \\n36. Ashtavakra \\n37. Bhima And Hanuman \\n38. I am No Crane \\n \\n39. The Wicked Are Never Satisfied \\n40. Duryodhana Disgraced \\n41. Sri Krishna's Hunger \\n42. The Enchanted Pool \\n43. Domestic Service \\n44. Virtue Vindicated \\n45. Matsya Defended \\n46. Prince Uttara \\n47. Promise Fulfilled \\n48. Virata's Delusion \\n49. Taking Counsel \\n50. Arjuna's Charioteer \\n51. Salya Against His Nephews \\n52. Vritra \\n53. Nahusha \\n54. Sanjaya's Mission \\n55. Not a Needle-Point Of Territory \\n56. Krishna's Mission \\n57. Attachment and Duty \\n58. The Pandava Generalissimo \\n59. Balarama \\n60. Rukmini \\n61. Non-Cooperation \\n62. Krishna Teaches \\n63. Yudhishthira Seeks Benediction \\n64. The First Day's Battle \\n65. The Second Day \\n66. The Third Day's Battle \\n67. The Fourth Day \\n68. The Fifth Day \\n69. The Sixth Day \\n70. The Seventh Day \\n71. The Eighth Day \\n72. The Ninth Day \\n73. The Passing Of Bhishma \\n74. Karna and the Grandsire \\n75. Drona in Command \\n76. To Seize Yudhishthira Alive \\n77. The Twelfth Day \\n78. Brave Bhagadatta \""
      ]
     },
     "execution_count": 10,
     "metadata": {},
     "output_type": "execute_result"
    }
   ],
   "source": [
    "pdf_loader = PyPDFLoader(file_path=\"./Data/Mahabharata.pdf\")\n",
    "\n",
    "# print(pdf_loader)\n",
    "\n",
    "docs = pdf_loader.load()\n",
    "docs[0].page_content"
   ]
  },
  {
   "cell_type": "markdown",
   "metadata": {},
   "source": [
    "# creating knowledgebase"
   ]
  },
  {
   "cell_type": "code",
   "execution_count": null,
   "metadata": {},
   "outputs": [],
   "source": []
  }
 ],
 "metadata": {
  "kernelspec": {
   "display_name": "Python 3",
   "language": "python",
   "name": "python3"
  },
  "language_info": {
   "codemirror_mode": {
    "name": "ipython",
    "version": 3
   },
   "file_extension": ".py",
   "mimetype": "text/x-python",
   "name": "python",
   "nbconvert_exporter": "python",
   "pygments_lexer": "ipython3",
   "version": "3.11.11"
  }
 },
 "nbformat": 4,
 "nbformat_minor": 2
}
